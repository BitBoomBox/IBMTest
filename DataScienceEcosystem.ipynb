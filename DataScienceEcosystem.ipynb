{
 "cells": [
  {
   "cell_type": "markdown",
   "id": "44b91d7d-98ad-41c7-90af-6d628cb000f9",
   "metadata": {},
   "source": [
    "<h1>Data Science Tools and Ecosystem</h1>"
   ]
  },
  {
   "cell_type": "markdown",
   "id": "493b8275-4bbe-4846-814c-c139b83e4664",
   "metadata": {},
   "source": [
    "In this notebook, Data Science Tools and Ecosystem are summarized."
   ]
  },
  {
   "cell_type": "markdown",
   "id": "10da6bf7-7ab2-46f0-b9a6-2c6be54eb153",
   "metadata": {},
   "source": [
    "Some of the popular languages that Data Scientists use are:\n",
    "<ol>\n",
    "    <li>R</li>\n",
    "    <li>Python</li>\n",
    "    <li>Julia</li>\n",
    "</ol>"
   ]
  },
  {
   "cell_type": "markdown",
   "id": "2a64f929-d013-4ddc-a7c2-bce17ae4258f",
   "metadata": {},
   "source": [
    "Some of the commonly used libraries used by Data Scientists include:\n",
    "<ol>\n",
    "    <li>Numpy</li>\n",
    "    <li>Scikit-Learn</li>\n",
    "    <li>Pandas</li>\n",
    "</ol>"
   ]
  },
  {
   "cell_type": "markdown",
   "id": "0d0472c9-e8af-4516-b0f2-b6342c27a124",
   "metadata": {},
   "source": [
    "<h2>Data Science Tools</h2>"
   ]
  },
  {
   "cell_type": "markdown",
   "id": "c9b9a831-6f28-42e8-b21c-cc035c859015",
   "metadata": {},
   "source": [
    "<h3>Below are a few examples of evaluating arithmetic expressions in Python.</h3>"
   ]
  },
  {
   "cell_type": "code",
   "execution_count": 1,
   "id": "990e3152-2547-4001-b6ca-990d55ec57db",
   "metadata": {},
   "outputs": [
    {
     "data": {
      "text/plain": [
       "17"
      ]
     },
     "execution_count": 1,
     "metadata": {},
     "output_type": "execute_result"
    }
   ],
   "source": [
    "# This a simple arithmetic expression to multiply then add integers.\n",
    "(3*4)+5"
   ]
  },
  {
   "cell_type": "code",
   "execution_count": 2,
   "id": "7c8aa453-5c6a-4680-9fe2-626410939608",
   "metadata": {},
   "outputs": [
    {
     "data": {
      "text/plain": [
       "33.333333333333336"
      ]
     },
     "execution_count": 2,
     "metadata": {},
     "output_type": "execute_result"
    }
   ],
   "source": [
    "# This will convert 200 minutes to hours by diving by 60.\n",
    "200/6"
   ]
  },
  {
   "cell_type": "markdown",
   "id": "a8636305-f95f-42c1-b8aa-28c7bbf29cdf",
   "metadata": {},
   "source": [
    "<b>Objectives</b>\n",
    "<li>R</li>\n",
    "<li>Python</li>\n",
    "<li>Julia</li>"
   ]
  },
  {
   "cell_type": "markdown",
   "id": "497d4dac-1aa0-48d1-9cc4-d1abf31e0719",
   "metadata": {},
   "source": [
    "<h2>Author</h2>\n",
    "Alex Chaia"
   ]
  },
  {
   "cell_type": "code",
   "execution_count": null,
   "id": "c1d785d2-ae6e-44d7-a986-51ca08a923b8",
   "metadata": {},
   "outputs": [],
   "source": []
  }
 ],
 "metadata": {
  "kernelspec": {
   "display_name": "Python 3 (ipykernel)",
   "language": "python",
   "name": "python3"
  },
  "language_info": {
   "codemirror_mode": {
    "name": "ipython",
    "version": 3
   },
   "file_extension": ".py",
   "mimetype": "text/x-python",
   "name": "python",
   "nbconvert_exporter": "python",
   "pygments_lexer": "ipython3",
   "version": "3.11.9"
  }
 },
 "nbformat": 4,
 "nbformat_minor": 5
}
